{
 "cells": [
  {
   "cell_type": "code",
   "execution_count": 10,
   "metadata": {},
   "outputs": [
    {
     "name": "stderr",
     "output_type": "stream",
     "text": [
      "/opt/conda/lib/python3.6/site-packages/matplotlib/font_manager.py:281: UserWarning: Matplotlib is building the font cache using fc-list. This may take a moment.\n",
      "  'Matplotlib is building the font cache using fc-list. '\n"
     ]
    }
   ],
   "source": [
    "\n",
    "import numpy as np\n",
    "import os\n",
    "import tensorflow as tf\n",
    "from keras import optimizers\n",
    "from keras.layers import Input\n",
    "from keras.models import Model\n",
    "from keras.layers import Dense, Flatten, Reshape, Dropout\n",
    "from keras.layers import Convolution1D, MaxPooling1D, BatchNormalization\n",
    "from keras.layers import Lambda\n",
    "from keras.utils import np_utils\n",
    "import h5py\n",
    "import matplotlib.pyplot as plt"
   ]
  },
  {
   "cell_type": "markdown",
   "metadata": {},
   "source": [
    "# Data Processing"
   ]
  },
  {
   "cell_type": "code",
   "execution_count": 2,
   "metadata": {},
   "outputs": [],
   "source": [
    "import data_processing\n",
    "import PN_tools"
   ]
  },
  {
   "cell_type": "code",
   "execution_count": 3,
   "metadata": {},
   "outputs": [
    {
     "name": "stdout",
     "output_type": "stream",
     "text": [
      "/datasets/home/home-01/25/125/a3mai/Pointnet/Prepdata\n",
      "['ply_data_train4.h5', '.ipynb_checkpoints', 'ply_data_train2.h5', 'ply_data_train3.h5', 'ply_data_train1.h5', 'ply_data_train0.h5']\n",
      "/datasets/home/home-01/25/125/a3mai/Pointnet/Prepdata_test\n",
      "['.ipynb_checkpoints', 'ply_data_test1.h5', 'ply_data_test0.h5']\n"
     ]
    }
   ],
   "source": [
    " train_points_r, test_points_r, Y_train, Y_test = data_processing.load_data()"
   ]
  },
  {
   "cell_type": "code",
   "execution_count": 4,
   "metadata": {},
   "outputs": [
    {
     "data": {
      "text/plain": [
       "(9840, 2048, 3)"
      ]
     },
     "execution_count": 4,
     "metadata": {},
     "output_type": "execute_result"
    }
   ],
   "source": [
    "train_points_r.shape"
   ]
  },
  {
   "cell_type": "markdown",
   "metadata": {},
   "source": [
    "# Model"
   ]
  },
  {
   "cell_type": "code",
   "execution_count": 5,
   "metadata": {},
   "outputs": [],
   "source": [
    "import input_Tnet\n",
    "import feature_Tnet"
   ]
  },
  {
   "cell_type": "code",
   "execution_count": 6,
   "metadata": {},
   "outputs": [
    {
     "name": "stdout",
     "output_type": "stream",
     "text": [
      "_________________________________________________________________\n",
      "Layer (type)                 Output Shape              Param #   \n",
      "=================================================================\n",
      "input_1 (InputLayer)         (None, 2048, 3)           0         \n",
      "_________________________________________________________________\n",
      "lambda_1 (Lambda)            (None, 2048, 3)           0         \n",
      "_________________________________________________________________\n",
      "conv1d_4 (Conv1D)            (None, 2048, 64)          256       \n",
      "_________________________________________________________________\n",
      "batch_normalization_6 (Batch (None, 2048, 64)          256       \n",
      "_________________________________________________________________\n",
      "conv1d_5 (Conv1D)            (None, 2048, 64)          4160      \n",
      "_________________________________________________________________\n",
      "batch_normalization_7 (Batch (None, 2048, 64)          256       \n",
      "_________________________________________________________________\n",
      "lambda_2 (Lambda)            (None, 2048, 64)          0         \n",
      "_________________________________________________________________\n",
      "conv1d_9 (Conv1D)            (None, 2048, 64)          4160      \n",
      "_________________________________________________________________\n",
      "batch_normalization_13 (Batc (None, 2048, 64)          256       \n",
      "_________________________________________________________________\n",
      "conv1d_10 (Conv1D)           (None, 2048, 128)         8320      \n",
      "_________________________________________________________________\n",
      "batch_normalization_14 (Batc (None, 2048, 128)         512       \n",
      "_________________________________________________________________\n",
      "conv1d_11 (Conv1D)           (None, 2048, 1024)        132096    \n",
      "_________________________________________________________________\n",
      "batch_normalization_15 (Batc (None, 2048, 1024)        4096      \n",
      "_________________________________________________________________\n",
      "max_pooling1d_3 (MaxPooling1 (None, 1, 1024)           0         \n",
      "_________________________________________________________________\n",
      "dense_7 (Dense)              (None, 1, 512)            524800    \n",
      "_________________________________________________________________\n",
      "batch_normalization_16 (Batc (None, 1, 512)            2048      \n",
      "_________________________________________________________________\n",
      "dropout_1 (Dropout)          (None, 1, 512)            0         \n",
      "_________________________________________________________________\n",
      "dense_8 (Dense)              (None, 1, 256)            131328    \n",
      "_________________________________________________________________\n",
      "batch_normalization_17 (Batc (None, 1, 256)            1024      \n",
      "_________________________________________________________________\n",
      "dropout_2 (Dropout)          (None, 1, 256)            0         \n",
      "_________________________________________________________________\n",
      "dense_9 (Dense)              (None, 1, 40)             10280     \n",
      "_________________________________________________________________\n",
      "flatten_1 (Flatten)          (None, 40)                0         \n",
      "=================================================================\n",
      "Total params: 823,848\n",
      "Trainable params: 819,624\n",
      "Non-trainable params: 4,224\n",
      "_________________________________________________________________\n",
      "None\n"
     ]
    }
   ],
   "source": [
    "\n",
    "# number of points in each sample\n",
    "num_points = train_points_r.shape[1]\n",
    "\n",
    "# number of categories\n",
    "k = 40\n",
    "\n",
    "#  Pointnet Architecture\n",
    "adam = optimizers.Adam(lr=0.001, decay=0.7)\n",
    "input_points = Input(shape=(num_points, 3))\n",
    "\n",
    "# T_net(transformation_net)\n",
    "input_T = input_Tnet.Input_Tnet(num_points, input_points)\n",
    "\n",
    "# Foward_net\n",
    "fw = feature_Tnet.forward_net(input_T, input_points, num_points)\n",
    "\n",
    "# T_net(transformation_net)\n",
    "feature_T = feature_Tnet.feature_Tnet(fw, num_points)\n",
    "\n",
    "# Forward net_v2\n",
    "fw_v2 = feature_Tnet.forward_net_v2(feature_T, fw)\n",
    "\n",
    "# Golobal_features\n",
    "global_feature = MaxPooling1D(pool_size=num_points)(fw_v2)\n",
    "\n",
    "# Convert pointnet to make prediction\n",
    "a = Dense(512, activation='relu')(global_feature)\n",
    "a = BatchNormalization()(a)\n",
    "a = Dropout(rate=0.7)(a)\n",
    "a = Dense(256, activation='relu')(a)\n",
    "a = BatchNormalization()(a)\n",
    "a = Dropout(rate=0.7)(a)\n",
    "a = Dense(k, activation='softmax')(a)\n",
    "prediction = Flatten()(a)\n",
    "\n",
    "\n",
    "PN_model = Model(inputs=input_points, outputs=prediction)\n",
    "print(PN_model.summary())\n",
    "\n"
   ]
  },
  {
   "cell_type": "markdown",
   "metadata": {},
   "source": [
    "# Training"
   ]
  },
  {
   "cell_type": "code",
   "execution_count": 7,
   "metadata": {},
   "outputs": [
    {
     "name": "stdout",
     "output_type": "stream",
     "text": [
      "Train on 9840 samples, validate on 2468 samples\n",
      "Epoch 1/1\n",
      "9840/9840 [==============================] - 91s 9ms/step - loss: 3.2913 - acc: 0.2587 - val_loss: 1.9639 - val_acc: 0.4267\n",
      "Current epoch is:1\n",
      "Train on 9840 samples, validate on 2468 samples\n",
      "Epoch 1/1\n",
      "9840/9840 [==============================] - 86s 9ms/step - loss: 2.0873 - acc: 0.4240 - val_loss: 1.7717 - val_acc: 0.5207\n",
      "Current epoch is:2\n",
      "Train on 9840 samples, validate on 2468 samples\n",
      "Epoch 1/1\n",
      "9840/9840 [==============================] - 86s 9ms/step - loss: 1.7201 - acc: 0.5082 - val_loss: 1.7713 - val_acc: 0.5235\n",
      "Current epoch is:3\n",
      "Train on 9840 samples, validate on 2468 samples\n",
      "Epoch 1/1\n",
      "9840/9840 [==============================] - 86s 9ms/step - loss: 1.5450 - acc: 0.5507 - val_loss: 1.1764 - val_acc: 0.6447\n",
      "Current epoch is:4\n",
      "Train on 9840 samples, validate on 2468 samples\n",
      "Epoch 1/1\n",
      "9840/9840 [==============================] - 87s 9ms/step - loss: 1.4437 - acc: 0.5773 - val_loss: 1.3815 - val_acc: 0.5725\n",
      "Current epoch is:5\n",
      "Train on 9840 samples, validate on 2468 samples\n",
      "Epoch 1/1\n",
      "9840/9840 [==============================] - 87s 9ms/step - loss: 1.3790 - acc: 0.6014 - val_loss: 1.4671 - val_acc: 0.5806\n",
      "Current epoch is:6\n",
      "Train on 9840 samples, validate on 2468 samples\n",
      "Epoch 1/1\n",
      "9840/9840 [==============================] - 87s 9ms/step - loss: 1.2891 - acc: 0.6189 - val_loss: 1.0337 - val_acc: 0.6904\n",
      "Current epoch is:7\n",
      "Train on 9840 samples, validate on 2468 samples\n",
      "Epoch 1/1\n",
      "9840/9840 [==============================] - 87s 9ms/step - loss: 1.2502 - acc: 0.6337 - val_loss: 1.0534 - val_acc: 0.7071\n",
      "Current epoch is:8\n",
      "Train on 9840 samples, validate on 2468 samples\n",
      "Epoch 1/1\n",
      "9840/9840 [==============================] - 87s 9ms/step - loss: 1.2318 - acc: 0.6376 - val_loss: 1.1344 - val_acc: 0.6613\n",
      "Current epoch is:9\n",
      "Train on 9840 samples, validate on 2468 samples\n",
      "Epoch 1/1\n",
      "9840/9840 [==============================] - 87s 9ms/step - loss: 1.1988 - acc: 0.6462 - val_loss: 1.1404 - val_acc: 0.6702\n",
      "Current epoch is:10\n",
      "Train on 9840 samples, validate on 2468 samples\n",
      "Epoch 1/1\n",
      "9840/9840 [==============================] - 87s 9ms/step - loss: 1.1972 - acc: 0.6480 - val_loss: 0.8724 - val_acc: 0.7443\n",
      "Current epoch is:11\n",
      "Train on 9840 samples, validate on 2468 samples\n",
      "Epoch 1/1\n",
      "9840/9840 [==============================] - 87s 9ms/step - loss: 1.1655 - acc: 0.6575 - val_loss: 1.0603 - val_acc: 0.6738\n",
      "Current epoch is:12\n",
      "Train on 9840 samples, validate on 2468 samples\n",
      "Epoch 1/1\n",
      "9840/9840 [==============================] - 86s 9ms/step - loss: 1.1439 - acc: 0.6603 - val_loss: 1.0796 - val_acc: 0.6868\n",
      "Current epoch is:13\n",
      "Train on 9840 samples, validate on 2468 samples\n",
      "Epoch 1/1\n",
      "9840/9840 [==============================] - 86s 9ms/step - loss: 1.1188 - acc: 0.6682 - val_loss: 0.8924 - val_acc: 0.7318\n",
      "Current epoch is:14\n",
      "Train on 9840 samples, validate on 2468 samples\n",
      "Epoch 1/1\n",
      "9840/9840 [==============================] - 86s 9ms/step - loss: 1.1349 - acc: 0.6755 - val_loss: 1.0177 - val_acc: 0.6763\n",
      "Current epoch is:15\n",
      "Train on 9840 samples, validate on 2468 samples\n",
      "Epoch 1/1\n",
      "9840/9840 [==============================] - 87s 9ms/step - loss: 1.1169 - acc: 0.6664 - val_loss: 1.0019 - val_acc: 0.7156\n",
      "Current epoch is:16\n",
      "Train on 9840 samples, validate on 2468 samples\n",
      "Epoch 1/1\n",
      "9840/9840 [==============================] - 87s 9ms/step - loss: 1.1185 - acc: 0.6651 - val_loss: 0.9955 - val_acc: 0.7083\n",
      "Current epoch is:17\n",
      "Train on 9840 samples, validate on 2468 samples\n",
      "Epoch 1/1\n",
      "9840/9840 [==============================] - 86s 9ms/step - loss: 1.0915 - acc: 0.6794 - val_loss: 0.9408 - val_acc: 0.7139\n",
      "Current epoch is:18\n",
      "Train on 9840 samples, validate on 2468 samples\n",
      "Epoch 1/1\n",
      "9840/9840 [==============================] - 87s 9ms/step - loss: 1.0969 - acc: 0.6772 - val_loss: 0.9229 - val_acc: 0.7253\n",
      "Current epoch is:19\n",
      "Train on 9840 samples, validate on 2468 samples\n",
      "Epoch 1/1\n",
      "9840/9840 [==============================] - 87s 9ms/step - loss: 1.0800 - acc: 0.6816 - val_loss: 0.8932 - val_acc: 0.7427\n",
      "Current epoch is:20\n",
      "Train on 9840 samples, validate on 2468 samples\n",
      "Epoch 1/1\n",
      "9840/9840 [==============================] - 87s 9ms/step - loss: 1.0990 - acc: 0.6780 - val_loss: 1.0278 - val_acc: 0.6998\n",
      "Current epoch is:21\n",
      "Train on 9840 samples, validate on 2468 samples\n",
      "Epoch 1/1\n",
      "9840/9840 [==============================] - 87s 9ms/step - loss: 1.0685 - acc: 0.6834 - val_loss: 0.8316 - val_acc: 0.7508\n",
      "Current epoch is:22\n",
      "Train on 9840 samples, validate on 2468 samples\n",
      "Epoch 1/1\n",
      "9840/9840 [==============================] - 87s 9ms/step - loss: 1.0821 - acc: 0.6787 - val_loss: 0.8705 - val_acc: 0.7378\n",
      "Current epoch is:23\n",
      "Train on 9840 samples, validate on 2468 samples\n",
      "Epoch 1/1\n",
      "9840/9840 [==============================] - 87s 9ms/step - loss: 1.0667 - acc: 0.6878 - val_loss: 0.9304 - val_acc: 0.7143\n",
      "Current epoch is:24\n",
      "Train on 9840 samples, validate on 2468 samples\n",
      "Epoch 1/1\n",
      "9840/9840 [==============================] - 87s 9ms/step - loss: 1.0373 - acc: 0.6919 - val_loss: 1.0083 - val_acc: 0.7147\n",
      "Current epoch is:25\n",
      "Train on 9840 samples, validate on 2468 samples\n",
      "Epoch 1/1\n",
      "9840/9840 [==============================] - 87s 9ms/step - loss: 1.0191 - acc: 0.6934 - val_loss: 1.0331 - val_acc: 0.6921\n",
      "Current epoch is:26\n",
      "Train on 9840 samples, validate on 2468 samples\n",
      "Epoch 1/1\n",
      "9840/9840 [==============================] - 87s 9ms/step - loss: 1.0220 - acc: 0.6979 - val_loss: 1.0188 - val_acc: 0.6831\n",
      "Current epoch is:27\n",
      "Train on 9840 samples, validate on 2468 samples\n",
      "Epoch 1/1\n",
      "9840/9840 [==============================] - 87s 9ms/step - loss: 1.0369 - acc: 0.6904 - val_loss: 0.9042 - val_acc: 0.7297\n",
      "Current epoch is:28\n",
      "Train on 9840 samples, validate on 2468 samples\n",
      "Epoch 1/1\n",
      "9840/9840 [==============================] - 87s 9ms/step - loss: 1.0287 - acc: 0.6937 - val_loss: 0.8599 - val_acc: 0.7387\n",
      "Current epoch is:29\n",
      "Train on 9840 samples, validate on 2468 samples\n",
      "Epoch 1/1\n",
      "9840/9840 [==============================] - 87s 9ms/step - loss: 1.0387 - acc: 0.6895 - val_loss: 0.9143 - val_acc: 0.7143\n",
      "Current epoch is:30\n",
      "Train on 9840 samples, validate on 2468 samples\n",
      "Epoch 1/1\n",
      "9840/9840 [==============================] - 87s 9ms/step - loss: 1.0412 - acc: 0.6882 - val_loss: 0.8934 - val_acc: 0.7411\n",
      "Current epoch is:31\n",
      "Train on 9840 samples, validate on 2468 samples\n",
      "Epoch 1/1\n",
      "9840/9840 [==============================] - 87s 9ms/step - loss: 1.0470 - acc: 0.6874 - val_loss: 0.9646 - val_acc: 0.7091\n",
      "Current epoch is:32\n",
      "Train on 9840 samples, validate on 2468 samples\n",
      "Epoch 1/1\n",
      "9840/9840 [==============================] - 87s 9ms/step - loss: 1.0398 - acc: 0.6952 - val_loss: 0.8851 - val_acc: 0.7362\n",
      "Current epoch is:33\n",
      "Train on 9840 samples, validate on 2468 samples\n",
      "Epoch 1/1\n",
      "9840/9840 [==============================] - 87s 9ms/step - loss: 1.0357 - acc: 0.6910 - val_loss: 0.7298 - val_acc: 0.7751\n",
      "Current epoch is:34\n",
      "Train on 9840 samples, validate on 2468 samples\n",
      "Epoch 1/1\n",
      "9840/9840 [==============================] - 87s 9ms/step - loss: 1.0138 - acc: 0.7005 - val_loss: 0.8665 - val_acc: 0.7297\n",
      "Current epoch is:35\n",
      "Train on 9840 samples, validate on 2468 samples\n",
      "Epoch 1/1\n",
      "9840/9840 [==============================] - 86s 9ms/step - loss: 0.9964 - acc: 0.7028 - val_loss: 0.8087 - val_acc: 0.7565\n",
      "Current epoch is:36\n",
      "Train on 9840 samples, validate on 2468 samples\n",
      "Epoch 1/1\n",
      "9840/9840 [==============================] - 86s 9ms/step - loss: 0.9954 - acc: 0.7059 - val_loss: 0.7335 - val_acc: 0.7840\n",
      "Current epoch is:37\n",
      "Train on 9840 samples, validate on 2468 samples\n",
      "Epoch 1/1\n",
      "9840/9840 [==============================] - 87s 9ms/step - loss: 0.9964 - acc: 0.7047 - val_loss: 0.7491 - val_acc: 0.7857\n",
      "Current epoch is:38\n",
      "Train on 9840 samples, validate on 2468 samples\n",
      "Epoch 1/1\n",
      "9840/9840 [==============================] - 86s 9ms/step - loss: 0.9894 - acc: 0.7118 - val_loss: 0.7831 - val_acc: 0.7630\n",
      "Current epoch is:39\n",
      "Train on 9840 samples, validate on 2468 samples\n",
      "Epoch 1/1\n",
      "9840/9840 [==============================] - 87s 9ms/step - loss: 0.9837 - acc: 0.7100 - val_loss: 0.9741 - val_acc: 0.7042\n",
      "Current epoch is:40\n",
      "Train on 9840 samples, validate on 2468 samples\n",
      "Epoch 1/1\n",
      "9840/9840 [==============================] - 87s 9ms/step - loss: 0.9943 - acc: 0.7050 - val_loss: 0.7133 - val_acc: 0.7905\n",
      "Current epoch is:41\n",
      "Train on 9840 samples, validate on 2468 samples\n",
      "Epoch 1/1\n",
      "9840/9840 [==============================] - 87s 9ms/step - loss: 0.9819 - acc: 0.7096 - val_loss: 0.7885 - val_acc: 0.7622\n",
      "Current epoch is:42\n",
      "Train on 9840 samples, validate on 2468 samples\n",
      "Epoch 1/1\n",
      "9840/9840 [==============================] - 87s 9ms/step - loss: 0.9830 - acc: 0.7096 - val_loss: 0.7913 - val_acc: 0.7581\n",
      "Current epoch is:43\n",
      "Train on 9840 samples, validate on 2468 samples\n",
      "Epoch 1/1\n",
      "9840/9840 [==============================] - 87s 9ms/step - loss: 0.9794 - acc: 0.7088 - val_loss: 0.6810 - val_acc: 0.7970\n",
      "Current epoch is:44\n",
      "Train on 9840 samples, validate on 2468 samples\n",
      "Epoch 1/1\n",
      "9840/9840 [==============================] - 87s 9ms/step - loss: 0.9621 - acc: 0.7162 - val_loss: 0.7508 - val_acc: 0.7763\n",
      "Current epoch is:45\n",
      "Train on 9840 samples, validate on 2468 samples\n",
      "Epoch 1/1\n",
      "9840/9840 [==============================] - 87s 9ms/step - loss: 0.9619 - acc: 0.7174 - val_loss: 0.7366 - val_acc: 0.7792\n",
      "Current epoch is:46\n",
      "Train on 9840 samples, validate on 2468 samples\n",
      "Epoch 1/1\n",
      "9840/9840 [==============================] - 87s 9ms/step - loss: 0.9279 - acc: 0.7220 - val_loss: 0.8618 - val_acc: 0.7459\n",
      "Current epoch is:47\n",
      "Train on 9840 samples, validate on 2468 samples\n",
      "Epoch 1/1\n",
      "9840/9840 [==============================] - 86s 9ms/step - loss: 0.9587 - acc: 0.7164 - val_loss: 0.8510 - val_acc: 0.7577\n",
      "Current epoch is:48\n",
      "Train on 9840 samples, validate on 2468 samples\n",
      "Epoch 1/1\n",
      "9840/9840 [==============================] - 87s 9ms/step - loss: 0.9250 - acc: 0.7293 - val_loss: 0.8442 - val_acc: 0.7492\n",
      "Current epoch is:49\n",
      "2468/2468 [==============================] - 8s 3ms/step\n",
      "Test loss:  0.8441620379251638\n",
      "Test accuracy:  0.7491896272285251\n"
     ]
    }
   ],
   "source": [
    "\n",
    "PN_model.compile(optimizer='adam',\n",
    "              loss='categorical_crossentropy',\n",
    "              metrics=['accuracy'])\n",
    "l_acc = np.zeros([1, 49])\n",
    "l_val_acc = np.zeros([1, 49])\n",
    "l_loss = np.zeros([1, 49])\n",
    "l_val_loss = np.zeros([1, 49])\n",
    "\n",
    "for i in range(1,50):\n",
    "    train_points_rotate = PN_tools.rotate_point_cloud(train_points_r)\n",
    "    train_points_jitter = PN_tools.jitter_point_cloud(train_points_rotate)\n",
    "    history = PN_model.fit(train_points_jitter, Y_train, batch_size=32, validation_data = (test_points_r, Y_test), epochs=1, shuffle=True, verbose=1)\n",
    "    s = \"Current epoch is:\" + str(i)\n",
    "    l_acc[0, i-1] = history.history['acc'][0]\n",
    "    l_val_acc[0, i-1] = history.history['val_acc'][0]\n",
    "    l_loss[0, i-1] = history.history['loss'][0]\n",
    "    l_val_loss[0, i-1] = history.history['val_loss'][0]\n",
    "    \n",
    "    \n",
    "    \n",
    "    print(s)\n",
    "   \n",
    "# score the model\n",
    "score = PN_model.evaluate(test_points_r, Y_test, verbose=1)\n",
    "print('Test loss: ', score[0])\n",
    "print('Test accuracy: ', score[1])\n"
   ]
  },
  {
   "cell_type": "code",
   "execution_count": 15,
   "metadata": {},
   "outputs": [
    {
     "data": {
      "text/plain": [
       "[0.258739837398374,\n",
       " 0.4239837398373984,\n",
       " 0.5082317073170731,\n",
       " 0.5507113821138211,\n",
       " 0.5773373983739838,\n",
       " 0.6014227642276423,\n",
       " 0.6189024390243902,\n",
       " 0.633739837398374,\n",
       " 0.6376016260162601,\n",
       " 0.646239837398374,\n",
       " 0.6479674796747967,\n",
       " 0.657520325203252,\n",
       " 0.6602642276422764,\n",
       " 0.6681910569105691,\n",
       " 0.6755081300813008,\n",
       " 0.6663617886178862,\n",
       " 0.6651422764227642,\n",
       " 0.679369918699187,\n",
       " 0.6772357723577236,\n",
       " 0.6816056910569106,\n",
       " 0.6780487804878049,\n",
       " 0.6834349593495935,\n",
       " 0.6786585365853659,\n",
       " 0.6878048780487804,\n",
       " 0.691869918699187,\n",
       " 0.6933943089430894,\n",
       " 0.6978658536585366,\n",
       " 0.6904471544715447,\n",
       " 0.6936991869918699,\n",
       " 0.6895325203252033,\n",
       " 0.6882113821138212,\n",
       " 0.6873983739837398,\n",
       " 0.6952235772357723,\n",
       " 0.6909552845528455,\n",
       " 0.7005081300813009,\n",
       " 0.7028455284552846,\n",
       " 0.7058943089430895,\n",
       " 0.7046747967479675,\n",
       " 0.7117886178861789,\n",
       " 0.7099593495934959,\n",
       " 0.704979674796748,\n",
       " 0.7095528455284553,\n",
       " 0.7095528455284553,\n",
       " 0.7088414634146342,\n",
       " 0.7161585365853659,\n",
       " 0.7173780487804878,\n",
       " 0.7219512195121951,\n",
       " 0.7163617886178861,\n",
       " 0.7292682926829268]"
      ]
     },
     "execution_count": 15,
     "metadata": {},
     "output_type": "execute_result"
    }
   ],
   "source": [
    "l_acc.flatten().tolist()"
   ]
  },
  {
   "cell_type": "code",
   "execution_count": 20,
   "metadata": {},
   "outputs": [
    {
     "data": {
      "image/png": "[encoded data removed]",
      "text/plain": [
       "<Figure size 432x288 with 1 Axes>"
      ]
     },
     "metadata": {
      "needs_background": "light"
     },
     "output_type": "display_data"
    },
    {
     "data": {
      "image/png": "[encoded data removed]",
      "text/plain": [
       "<Figure size 432x288 with 1 Axes>"
      ]
     },
     "metadata": {
      "needs_background": "light"
     },
     "output_type": "display_data"
    }
   ],
   "source": [
    "#Plot training & validation accuracy values\n",
    "plt.plot(l_acc.flatten().tolist())\n",
    "plt.plot(l_val_acc.flatten().tolist())\n",
    "plt.title('Model accuracy')\n",
    "plt.ylabel('Accuracy')\n",
    "plt.xlabel('Epoch')\n",
    "plt.legend(['Train', 'Test'], loc='upper left')\n",
    "plt.savefig('acc.png')\n",
    "plt.show()\n",
    "\n",
    "# Plot training & validation loss values\n",
    "plt.plot(l_loss.flatten().tolist())\n",
    "plt.plot(l_val_loss.flatten().tolist())\n",
    "plt.title('Model loss')\n",
    "plt.ylabel('Loss')\n",
    "plt.xlabel('Epoch')\n",
    "plt.legend(['Train', 'Test'], loc='upper right')\n",
    "plt.savefig('loss.png')\n",
    "plt.show()\n"
   ]
  },
  {
   "cell_type": "code",
   "execution_count": null,
   "metadata": {},
   "outputs": [],
   "source": [
    "PN_model.save(\"PN_model.h5\")"
   ]
  },
  {
   "cell_type": "code",
   "execution_count": 84,
   "metadata": {},
   "outputs": [],
   "source": [
    "t = PN_model.predict(test_points_r)"
   ]
  },
  {
   "cell_type": "code",
   "execution_count": 85,
   "metadata": {},
   "outputs": [],
   "source": [
    "np.save('predict_pn1.npy', t)"
   ]
  },
  {
   "cell_type": "code",
   "execution_count": 86,
   "metadata": {},
   "outputs": [],
   "source": [
    "np.save('test_point1.npy', test_points_r)"
   ]
  },
  {
   "cell_type": "code",
   "execution_count": 87,
   "metadata": {},
   "outputs": [],
   "source": [
    "np.save('test_label1.npy', Y_test)"
   ]
  },
  {
   "cell_type": "markdown",
   "metadata": {},
   "source": []
  },
  {
   "cell_type": "code",
   "execution_count": null,
   "metadata": {},
   "outputs": [],
   "source": []
  }
 ],
 "metadata": {
  "kernelspec": {
   "display_name": "Python 3",
   "language": "python",
   "name": "python3"
  },
  "language_info": {
   "codemirror_mode": {
    "name": "ipython",
    "version": 3
   },
   "file_extension": ".py",
   "mimetype": "text/x-python",
   "name": "python",
   "nbconvert_exporter": "python",
   "pygments_lexer": "ipython3",
   "version": "3.6.8"
  }
 },
 "nbformat": 4,
 "nbformat_minor": 2
}
