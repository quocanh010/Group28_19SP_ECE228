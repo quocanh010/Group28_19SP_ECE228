{
 "cells": [
  {
   "cell_type": "code",
   "execution_count": 2,
   "metadata": {},
   "outputs": [
    {
     "name": "stderr",
     "output_type": "stream",
     "text": [
      "/opt/conda/lib/python3.6/site-packages/h5py/__init__.py:36: FutureWarning: Conversion of the second argument of issubdtype from `float` to `np.floating` is deprecated. In future, it will be treated as `np.float64 == np.dtype(float).type`.\n",
      "  from ._conv import register_converters as _register_converters\n",
      "Using TensorFlow backend.\n"
     ]
    }
   ],
   "source": [
    "\n",
    "import numpy as np\n",
    "import os\n",
    "import tensorflow as tf\n",
    "from keras import optimizers\n",
    "from keras.layers import Input\n",
    "from keras.models import Model\n",
    "from keras.layers import Dense, Flatten, Reshape, Dropout\n",
    "from keras.layers import Convolution1D, MaxPooling1D, BatchNormalization\n",
    "from keras.layers import Lambda\n",
    "from keras.utils import np_utils\n",
    "import h5py"
   ]
  },
  {
   "cell_type": "markdown",
   "metadata": {},
   "source": [
    "# Data Processing"
   ]
  },
  {
   "cell_type": "code",
   "execution_count": 7,
   "metadata": {},
   "outputs": [],
   "source": [
    "import data_processing\n",
    "import PN_tools"
   ]
  },
  {
   "cell_type": "code",
   "execution_count": 8,
   "metadata": {},
   "outputs": [
    {
     "name": "stdout",
     "output_type": "stream",
     "text": [
      "/datasets/home/home-01/25/125/a3mai/Pointnet/Prepdata\n",
      "['ply_data_train4.h5', '.ipynb_checkpoints', 'ply_data_train2.h5', 'ply_data_train3.h5', 'ply_data_train1.h5', 'ply_data_train0.h5']\n",
      "/datasets/home/home-01/25/125/a3mai/Pointnet/Prepdata_test\n",
      "['.ipynb_checkpoints', 'ply_data_test1.h5', 'ply_data_test0.h5']\n"
     ]
    }
   ],
   "source": [
    " train_points_r, test_points_r, Y_train, Y_test = data_processing.load_data()"
   ]
  },
  {
   "cell_type": "code",
   "execution_count": 9,
   "metadata": {},
   "outputs": [
    {
     "data": {
      "text/plain": [
       "(9840, 2048, 3)"
      ]
     },
     "execution_count": 9,
     "metadata": {},
     "output_type": "execute_result"
    }
   ],
   "source": [
    "train_points_r.shape"
   ]
  },
  {
   "cell_type": "markdown",
   "metadata": {},
   "source": [
    "# Model"
   ]
  },
  {
   "cell_type": "code",
   "execution_count": 10,
   "metadata": {},
   "outputs": [],
   "source": [
    "import input_Tnet\n",
    "import feature_Tnet"
   ]
  },
  {
   "cell_type": "code",
   "execution_count": 11,
   "metadata": {},
   "outputs": [
    {
     "name": "stdout",
     "output_type": "stream",
     "text": [
      "_________________________________________________________________\n",
      "Layer (type)                 Output Shape              Param #   \n",
      "=================================================================\n",
      "input_2 (InputLayer)         (None, 2048, 3)           0         \n",
      "_________________________________________________________________\n",
      "lambda_1 (Lambda)            (None, 2048, 3)           0         \n",
      "_________________________________________________________________\n",
      "conv1d_4 (Conv1D)            (None, 2048, 64)          256       \n",
      "_________________________________________________________________\n",
      "batch_normalization_6 (Batch (None, 2048, 64)          256       \n",
      "_________________________________________________________________\n",
      "conv1d_5 (Conv1D)            (None, 2048, 64)          4160      \n",
      "_________________________________________________________________\n",
      "batch_normalization_7 (Batch (None, 2048, 64)          256       \n",
      "_________________________________________________________________\n",
      "lambda_2 (Lambda)            (None, 2048, 64)          0         \n",
      "_________________________________________________________________\n",
      "conv1d_9 (Conv1D)            (None, 2048, 64)          4160      \n",
      "_________________________________________________________________\n",
      "batch_normalization_13 (Batc (None, 2048, 64)          256       \n",
      "_________________________________________________________________\n",
      "conv1d_10 (Conv1D)           (None, 2048, 128)         8320      \n",
      "_________________________________________________________________\n",
      "batch_normalization_14 (Batc (None, 2048, 128)         512       \n",
      "_________________________________________________________________\n",
      "conv1d_11 (Conv1D)           (None, 2048, 1024)        132096    \n",
      "_________________________________________________________________\n",
      "batch_normalization_15 (Batc (None, 2048, 1024)        4096      \n",
      "_________________________________________________________________\n",
      "max_pooling1d_3 (MaxPooling1 (None, 1, 1024)           0         \n",
      "_________________________________________________________________\n",
      "dense_7 (Dense)              (None, 1, 512)            524800    \n",
      "_________________________________________________________________\n",
      "batch_normalization_16 (Batc (None, 1, 512)            2048      \n",
      "_________________________________________________________________\n",
      "dropout_1 (Dropout)          (None, 1, 512)            0         \n",
      "_________________________________________________________________\n",
      "dense_8 (Dense)              (None, 1, 256)            131328    \n",
      "_________________________________________________________________\n",
      "batch_normalization_17 (Batc (None, 1, 256)            1024      \n",
      "_________________________________________________________________\n",
      "dropout_2 (Dropout)          (None, 1, 256)            0         \n",
      "_________________________________________________________________\n",
      "dense_9 (Dense)              (None, 1, 40)             10280     \n",
      "_________________________________________________________________\n",
      "flatten_1 (Flatten)          (None, 40)                0         \n",
      "=================================================================\n",
      "Total params: 823,848\n",
      "Trainable params: 819,624\n",
      "Non-trainable params: 4,224\n",
      "_________________________________________________________________\n",
      "None\n"
     ]
    }
   ],
   "source": [
    "\n",
    "# number of points in each sample\n",
    "num_points = train_points_r.shape[1]\n",
    "\n",
    "# number of categories\n",
    "k = 40\n",
    "\n",
    "#  Pointnet Architecture\n",
    "adam = optimizers.Adam(lr=0.001, decay=0.7)\n",
    "input_points = Input(shape=(num_points, 3))\n",
    "\n",
    "# T_net(transformation_net)\n",
    "input_T = input_Tnet.Input_Tnet(num_points, input_points)\n",
    "\n",
    "# Foward_net\n",
    "fw = feature_Tnet.forward_net(input_T, input_points, num_points)\n",
    "\n",
    "# T_net(transformation_net)\n",
    "feature_T = feature_Tnet.feature_Tnet(fw, num_points)\n",
    "\n",
    "# Forward net_v2\n",
    "fw_v2 = feature_Tnet.forward_net_v2(feature_T, fw)\n",
    "\n",
    "# Golobal_features\n",
    "global_feature = MaxPooling1D(pool_size=num_points)(fw_v2)\n",
    "\n",
    "# Convert pointnet to make prediction\n",
    "a = Dense(512, activation='relu')(global_feature)\n",
    "a = BatchNormalization()(a)\n",
    "a = Dropout(rate=0.7)(a)\n",
    "a = Dense(256, activation='relu')(a)\n",
    "a = BatchNormalization()(a)\n",
    "a = Dropout(rate=0.7)(a)\n",
    "a = Dense(k, activation='softmax')(a)\n",
    "prediction = Flatten()(a)\n",
    "\n",
    "\n",
    "PN_model = Model(inputs=input_points, outputs=prediction)\n",
    "print(PN_model.summary())\n",
    "\n"
   ]
  },
  {
   "cell_type": "markdown",
   "metadata": {},
   "source": [
    "# Training"
   ]
  },
  {
   "cell_type": "code",
   "execution_count": null,
   "metadata": {},
   "outputs": [
    {
     "name": "stdout",
     "output_type": "stream",
     "text": [
      "Epoch 1/1\n",
      "9840/9840 [==============================] - 81s 8ms/step - loss: 2.1072 - acc: 0.4284\n",
      "Current epoch is:1\n",
      "Epoch 1/1\n",
      "1824/9840 [====>.........................] - ETA: 1:02 - loss: 1.8041 - acc: 0.4874"
     ]
    }
   ],
   "source": [
    "\n",
    "PN_model.compile(optimizer='adam',\n",
    "              loss='categorical_crossentropy',\n",
    "              metrics=['accuracy'])\n",
    "for i in range(1,50):\n",
    "    train_points_rotate = PN_tools.rotate_point_cloud(train_points_r)\n",
    "    train_points_jitter = PN_tools.jitter_point_cloud(train_points_rotate)\n",
    "    history = PN_model.fit(train_points_jitter, Y_train, batch_size=32, epochs=1, shuffle=True, verbose=1)\n",
    "    s = \"Current epoch is:\" + str(i)\n",
    "    print(s)\n",
    "# score the model\n",
    "score = PN_model.evaluate(test_points_r, Y_test, verbose=1)\n",
    "print('Test loss: ', score[0])\n",
    "print('Test accuracy: ', score[1])\n"
   ]
  },
  {
   "cell_type": "code",
   "execution_count": 84,
   "metadata": {},
   "outputs": [],
   "source": [
    "t = PN_model.predict(test_points_r)"
   ]
  },
  {
   "cell_type": "code",
   "execution_count": 85,
   "metadata": {},
   "outputs": [],
   "source": [
    "np.save('predict_pn1.npy', t)"
   ]
  },
  {
   "cell_type": "code",
   "execution_count": 86,
   "metadata": {},
   "outputs": [],
   "source": [
    "np.save('test_point1.npy', test_points_r)"
   ]
  },
  {
   "cell_type": "code",
   "execution_count": 87,
   "metadata": {},
   "outputs": [],
   "source": [
    "np.save('test_label1.npy', Y_test)"
   ]
  },
  {
   "cell_type": "markdown",
   "metadata": {},
   "source": []
  },
  {
   "cell_type": "code",
   "execution_count": null,
   "metadata": {},
   "outputs": [],
   "source": []
  }
 ],
 "metadata": {
  "kernelspec": {
   "display_name": "Python 3",
   "language": "python",
   "name": "python3"
  },
  "language_info": {
   "codemirror_mode": {
    "name": "ipython",
    "version": 3
   },
   "file_extension": ".py",
   "mimetype": "text/x-python",
   "name": "python",
   "nbconvert_exporter": "python",
   "pygments_lexer": "ipython3",
   "version": "3.6.8"
  }
 },
 "nbformat": 4,
 "nbformat_minor": 2
}
